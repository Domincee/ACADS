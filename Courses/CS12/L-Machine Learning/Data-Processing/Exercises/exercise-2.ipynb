{
 "cells": [
  {
   "cell_type": "markdown",
   "id": "15a4919a",
   "metadata": {},
   "source": [
    "“This exercise will cover how to:\n",
    "\n",
    "- Handle null values\n",
    "\n",
    "- Use 'iloc' for selecting data\n",
    "\n",
    "- Transform categorical data into numerical format”**"
   ]
  },
  {
   "cell_type": "code",
   "execution_count": null,
   "id": "3d2dc12d",
   "metadata": {},
   "outputs": [],
   "source": [
    "\n",
    "import numpy as np\n",
    "from sklearn.impute import SimpleImputer\n",
    "from sklearn.preprocessing import LabelEncoder\n",
    "import pandas as pd\n"
   ]
  },
  {
   "cell_type": "code",
   "execution_count": 6,
   "id": "4569ec2b",
   "metadata": {},
   "outputs": [
    {
     "name": "stdout",
     "output_type": "stream",
     "text": [
      "      Name   Age  Gender\n",
      "0     John  21.0    Male\n",
      "1     Kate   NaN  Female\n",
      "2  Jupiter  22.0    Male\n",
      "3     Alex  20.0  Female\n",
      "4      Zsa   NaN  Female\n"
     ]
    }
   ],
   "source": [
    "data = {\n",
    "        \"Name\":[\"John\",\"Kate\",\"Jupiter\",\"Alex\",\"Zsa\"],\n",
    "        \"Age\":[21,np.nan,22,20,np.nan],\n",
    "        \"Gender\":[\"Male\",\"Female\",\"Male\",\"Female\",\"Female\"]\n",
    "}\n",
    "\n",
    "df = pd.DataFrame(data)\n",
    "print(df)\n",
    "\n"
   ]
  },
  {
   "cell_type": "code",
   "execution_count": 12,
   "id": "186823f6",
   "metadata": {},
   "outputs": [
    {
     "data": {
      "text/plain": [
       "Name      0\n",
       "Age       2\n",
       "Gender    0\n",
       "dtype: int64"
      ]
     },
     "execution_count": 12,
     "metadata": {},
     "output_type": "execute_result"
    }
   ],
   "source": [
    "df.isnull().sum()"
   ]
  },
  {
   "cell_type": "code",
   "execution_count": 17,
   "id": "aeb10428",
   "metadata": {},
   "outputs": [
    {
     "name": "stdout",
     "output_type": "stream",
     "text": [
      "      Name   Age  Gender\n",
      "0     John  21.0    Male\n",
      "1     Kate  21.0  Female\n",
      "2  Jupiter  22.0    Male\n",
      "3     Alex  20.0  Female\n",
      "4      Zsa  21.0  Female\n"
     ]
    }
   ],
   "source": [
    "imputer = SimpleImputer(strategy=\"mean\")\n",
    "df[\"Age\"] = imputer.fit_transform(df[[\"Age\"]])\n",
    "print(df)"
   ]
  },
  {
   "cell_type": "code",
   "execution_count": 25,
   "id": "f7b3efa8",
   "metadata": {},
   "outputs": [
    {
     "name": "stdout",
     "output_type": "stream",
     "text": [
      "FEAUTURES:\n",
      "       Name   Age\n",
      "0     John  21.0\n",
      "1     Kate  21.0\n",
      "2  Jupiter  22.0\n",
      "3     Alex  20.0\n",
      "4      Zsa  21.0\n"
     ]
    }
   ],
   "source": [
    "X = df.iloc[:, :-1]\n",
    "y = df.iloc[:, -1]\n",
    "print(\"FEAUTURES:\\n\",X)\n"
   ]
  },
  {
   "cell_type": "code",
   "execution_count": 27,
   "id": "904655a9",
   "metadata": {},
   "outputs": [
    {
     "name": "stdout",
     "output_type": "stream",
     "text": [
      "TARGET:\n",
      " 0      Male\n",
      "1    Female\n",
      "2      Male\n",
      "3    Female\n",
      "4    Female\n",
      "Name: Gender, dtype: object\n"
     ]
    }
   ],
   "source": [
    "print(\"TARGET:\\n\",y)\n"
   ]
  },
  {
   "cell_type": "markdown",
   "id": "739b81b6",
   "metadata": {},
   "source": [
    "Use LabelEncoder to convert categorial into numerical\n",
    "<br>\n",
    "<span style=\"color: red; font-weight:700;\">\"from sklearn.preprocessing import LabelEncoder\"</span>\n"
   ]
  },
  {
   "cell_type": "code",
   "execution_count": 29,
   "id": "04cce236",
   "metadata": {},
   "outputs": [
    {
     "name": "stdout",
     "output_type": "stream",
     "text": [
      "      Name   Age  Gender\n",
      "0     John  21.0       1\n",
      "1     Kate  21.0       0\n",
      "2  Jupiter  22.0       1\n",
      "3     Alex  20.0       0\n",
      "4      Zsa  21.0       0\n"
     ]
    }
   ],
   "source": [
    "encoder = LabelEncoder()\n",
    "\n",
    "df[\"Gender\"] = encoder.fit_transform(df[\"Gender\"])\n",
    "print(df)"
   ]
  }
 ],
 "metadata": {
  "kernelspec": {
   "display_name": "Python 3",
   "language": "python",
   "name": "python3"
  },
  "language_info": {
   "codemirror_mode": {
    "name": "ipython",
    "version": 3
   },
   "file_extension": ".py",
   "mimetype": "text/x-python",
   "name": "python",
   "nbconvert_exporter": "python",
   "pygments_lexer": "ipython3",
   "version": "3.11.0"
  }
 },
 "nbformat": 4,
 "nbformat_minor": 5
}
