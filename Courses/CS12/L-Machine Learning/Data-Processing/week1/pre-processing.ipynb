{
 "cells": [
  {
   "cell_type": "markdown",
   "id": "7863275b",
   "metadata": {},
   "source": [
    "# HERE I will do pre processing "
   ]
  },
  {
   "cell_type": "code",
   "execution_count": null,
   "id": "c7155509",
   "metadata": {},
   "outputs": [
    {
     "data": {
      "text/plain": [
       "Age       2\n",
       "Salary    3\n",
       "Gender    3\n",
       "Color     2\n",
       "Size      2\n",
       "Single    1\n",
       "dtype: int64"
      ]
     },
     "execution_count": 77,
     "metadata": {},
     "output_type": "execute_result"
    }
   ],
   "source": [
    "import pandas as pd\n",
    "import numpy as np\n",
    "from sklearn.impute import SimpleImputer\n",
    "from sklearn.preprocessing import Normalizer, OrdinalEncoder, OneHotEncoder, StandardScaler, MinMaxScaler, LabelEncoder\n",
    "import \n",
    "\n",
    "data = {\n",
    "    'Age': [25, 30, np.nan, 40, 50,np.nan,21,18,19,23],              # Numerical with missing value\n",
    "    'Salary': [50000, np.nan, 65000, 80000, np.nan,130000, 80000, 60000, 180000, np.nan],\n",
    "    'Gender': ['Male', np.nan, 'Female', 'Male', np.nan,'Male', 'Female', 'Female', 'Male', np.nan],  # Binary nominal with missing\n",
    "    'Color': ['Red', 'Blue', 'Green', np.nan, 'Red','Red', 'Blue', 'Green', 'Blue', np.nan],         # Nominal\n",
    "    'Size': ['S', 'M', 'XL', 'M', np.nan, 'S', 'M', 'XL', np.nan, 'S'],                        # Ordinal\n",
    "    'Single':  ['No', 'Yes', 'No', 'Yes', 'No', 'Yes', np.nan, 'No', 'Yes', 'No']                             # Target\n",
    "}\n",
    "\n",
    "df = pd.DataFrame(data)\n",
    "df.isnull().sum()\n",
    "\n",
    "\n",
    "\n",
    "\n",
    "\n"
   ]
  },
  {
   "cell_type": "code",
   "execution_count": 78,
   "id": "cf906557",
   "metadata": {},
   "outputs": [
    {
     "data": {
      "text/plain": [
       "Age       0\n",
       "Salary    0\n",
       "Gender    0\n",
       "Color     0\n",
       "Size      0\n",
       "Single    0\n",
       "dtype: int64"
      ]
     },
     "execution_count": 78,
     "metadata": {},
     "output_type": "execute_result"
    }
   ],
   "source": [
    "\n",
    "imputer_mean = SimpleImputer(strategy='mean')\n",
    "imputer_mf = SimpleImputer(strategy='most_frequent')\n",
    "\n",
    "df[['Single','Color','Gender','Size']] = imputer_mf.fit_transform(df[['Single','Color','Gender','Size']])\n",
    "df[['Age','Salary',]] = imputer_mean.fit_transform(df[['Age','Salary',]]) \n",
    "\n",
    "df.isnull().sum()\n"
   ]
  },
  {
   "cell_type": "code",
   "execution_count": 79,
   "id": "18914be3",
   "metadata": {},
   "outputs": [
    {
     "name": "stdout",
     "output_type": "stream",
     "text": [
      "     Age         Salary  Gender  Color  Size  Single\n",
      "0  25.00   50000.000000       1      2   0.0       0\n",
      "1  30.00   92142.857143       1      0   1.0       1\n",
      "2  28.25   65000.000000       0      1   3.0       0\n",
      "3  40.00   80000.000000       1      0   1.0       1\n",
      "4  50.00   92142.857143       1      2   1.0       0\n",
      "5  28.25  130000.000000       1      2   0.0       1\n",
      "6  21.00   80000.000000       0      0   1.0       0\n",
      "7  18.00   60000.000000       0      1   3.0       0\n",
      "8  19.00  180000.000000       1      0   1.0       1\n",
      "9  23.00   92142.857143       1      0   0.0       0\n"
     ]
    }
   ],
   "source": [
    "lbl_encoder = LabelEncoder()\n",
    "df['Single'] = lbl_encoder.fit_transform(df['Single'])\n",
    "df['Color'] = lbl_encoder.fit_transform(df['Color'])\n",
    "df['Gender'] = lbl_encoder.fit_transform(df['Gender'])\n",
    "\n",
    "ord_encoder = OrdinalEncoder(categories=[['S','M','L','XL']])\n",
    "df['Size'] = ord_encoder.fit_transform(df[['Size']])\n",
    "\n",
    "\n",
    "print(df)"
   ]
  },
  {
   "cell_type": "code",
   "execution_count": 84,
   "id": "cd912a37",
   "metadata": {},
   "outputs": [
    {
     "name": "stdout",
     "output_type": "stream",
     "text": [
      "Sclaed train and Test\n"
     ]
    },
    {
     "data": {
      "text/plain": [
       "array([[-0.382435  , -1.6812597 , -1.22474487,  0.5       ,  1.83711731],\n",
       "       [-0.86047875,  1.02585338,  0.81649658, -0.75      , -1.22474487],\n",
       "       [ 1.59803196,  1.02585338,  0.81649658,  1.75      , -0.20412415],\n",
       "       [ 0.68747244, -0.18522353,  0.81649658, -0.75      , -0.20412415],\n",
       "       [-1.04259066, -0.18522353, -1.22474487, -0.75      , -0.20412415]])"
      ]
     },
     "metadata": {},
     "output_type": "display_data"
    },
    {
     "data": {
      "text/plain": [
       "array([[-1.22470256,  9.78835098,  0.81649658, -0.75      , -0.20412415],\n",
       "       [-0.22308708,  1.02585338,  0.81649658, -0.75      , -0.20412415],\n",
       "       [-0.382435  ,  4.80156373,  0.81649658,  1.75      , -1.22474487],\n",
       "       [-0.67836685, -3.17729588,  0.81649658,  1.75      , -1.22474487],\n",
       "       [-1.31575851, -2.17993843, -1.22474487,  0.5       ,  1.83711731]])"
      ]
     },
     "metadata": {},
     "output_type": "display_data"
    }
   ],
   "source": [
    "from sklearn.model_selection import train_test_split\n",
    "\n",
    "X = df.drop('Single',axis=1)\n",
    "y = df['Single']\n",
    "\n",
    "\n",
    "X_train, X_test , y_train, y_test = train_test_split(X,y, test_size=0.5, random_state=42)\n",
    "\n",
    "std_scaler = StandardScaler()\n",
    "\n",
    "X_train_scaled = std_scaler.fit_transform(X_train)\n",
    "X_test_scaled = std_scaler.transform(X_test)\n",
    "\n",
    "print(\"Sclaed train and Test\")\n",
    "display(X_train_scaled)\n",
    "display(X_test_scaled)\n",
    "\n",
    "\n",
    "\n"
   ]
  },
  {
   "cell_type": "code",
   "execution_count": 85,
   "id": "1d10f0f9",
   "metadata": {},
   "outputs": [
    {
     "name": "stdout",
     "output_type": "stream",
     "text": [
      "Test Accuracy: 0.4\n"
     ]
    },
    {
     "name": "stderr",
     "output_type": "stream",
     "text": [
      "c:\\Users\\daseb\\AppData\\Local\\Programs\\Python\\Python311\\Lib\\site-packages\\sklearn\\linear_model\\_logistic.py:1272: FutureWarning: 'multi_class' was deprecated in version 1.5 and will be removed in 1.7. From then on, it will always use 'multinomial'. Leave it to its default value to avoid this warning.\n",
      "  warnings.warn(\n"
     ]
    }
   ],
   "source": [
    "from sklearn.linear_model import LogisticRegression\n",
    "from sklearn.metrics import accuracy_score\n",
    "\n",
    "\n",
    "\n",
    "model = LogisticRegression(multi_class='auto', solver='lbfgs', max_iter=1000)\n",
    "model.fit(X_train_scaled, y_train)\n",
    "\n",
    "\n",
    "y_pred = model.predict(X_test_scaled)\n",
    "print(\"Test Accuracy:\", accuracy_score(y_test, y_pred)) \n",
    "\n"
   ]
  }
 ],
 "metadata": {
  "kernelspec": {
   "display_name": "Python 3",
   "language": "python",
   "name": "python3"
  },
  "language_info": {
   "codemirror_mode": {
    "name": "ipython",
    "version": 3
   },
   "file_extension": ".py",
   "mimetype": "text/x-python",
   "name": "python",
   "nbconvert_exporter": "python",
   "pygments_lexer": "ipython3",
   "version": "3.11.0"
  }
 },
 "nbformat": 4,
 "nbformat_minor": 5
}
