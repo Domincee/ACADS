{
 "cells": [
  {
   "cell_type": "code",
   "execution_count": 3,
   "id": "01c59c7e",
   "metadata": {},
   "outputs": [],
   "source": [
    "import numpy as np\n",
    "import pandas as pd\n",
    "from sklearn.impute import SimpleImputer\n",
    "\n"
   ]
  },
  {
   "cell_type": "code",
   "execution_count": 7,
   "id": "f14f2cef",
   "metadata": {},
   "outputs": [
    {
     "data": {
      "text/plain": [
       "{'CustomerID': [1, 2, 3, 4, 5, 6],\n",
       " 'Age': [25, nan, 35, 40, nan, 30],\n",
       " 'Gender': ['Male', 'Female', nan, 'Female', 'Male', nan],\n",
       " 'Income': [50000, 60000, nan, 80000, 75000, nan],\n",
       " 'Purchased': ['Yes', 'No', 'Yes', nan, 'No', 'Yes']}"
      ]
     },
     "metadata": {},
     "output_type": "display_data"
    }
   ],
   "source": [
    "data = {\n",
    "    \"CustomerID\": [1, 2, 3, 4, 5, 6],\n",
    "    \"Age\": [25, np.nan, 35, 40, np.nan, 30],\n",
    "    \"Gender\": [\"Male\", \"Female\", np.nan, \"Female\", \"Male\", np.nan],\n",
    "    \"Income\": [50000, 60000, np.nan, 80000, 75000, np.nan],\n",
    "    \"Purchased\": [\"Yes\", \"No\", \"Yes\", np.nan, \"No\", \"Yes\"]\n",
    "}\n",
    "\n",
    "\n",
    "df = pd.DataFrame(data)\n",
    "\n",
    "display(data)"
   ]
  },
  {
   "cell_type": "code",
   "execution_count": 10,
   "id": "5b6df61a",
   "metadata": {},
   "outputs": [
    {
     "data": {
      "text/plain": [
       "CustomerID    0\n",
       "Age           2\n",
       "Gender        2\n",
       "Income        2\n",
       "Purchased     1\n",
       "dtype: int64"
      ]
     },
     "execution_count": 10,
     "metadata": {},
     "output_type": "execute_result"
    }
   ],
   "source": [
    "df.isnull().sum()\n"
   ]
  },
  {
   "cell_type": "markdown",
   "id": "67813155",
   "metadata": {},
   "source": [
    "deciding what strategy to use is important in handling null values, u cannot fill null values if it belongs to a  numeric column like Income, Age, Salary, Kiligram , meter, etc..\n",
    "\n",
    "BUT can use most frequent strategy on both categorial and numerical. It will just choose what most frequent and fill the null and if there is tie it will choose the smallest value.\n",
    "\n",
    "The mean strategy best suited for numerical which is will get the average of an existing values\n",
    "\n",
    "\n"
   ]
  },
  {
   "cell_type": "code",
   "execution_count": 33,
   "id": "a7b5720a",
   "metadata": {},
   "outputs": [
    {
     "name": "stdout",
     "output_type": "stream",
     "text": [
      "   CustomerID   Age  Gender   Income Purchased\n",
      "0           1  25.0    Male  50000.0       Yes\n",
      "1           2  32.5  Female  60000.0        No\n",
      "2           3  35.0  Female  50000.0       Yes\n",
      "3           4  40.0  Female  80000.0       Yes\n",
      "4           5  32.5    Male  75000.0        No\n",
      "5           6  30.0  Female  50000.0       Yes\n"
     ]
    }
   ],
   "source": [
    "imputerCategorial = SimpleImputer(strategy='most_frequent')\n",
    "df[[\"Gender\"]] = imputerCategorial.fit_transform(df[[\"Gender\"]])\n",
    "df[[\"Purchased\"]] = imputerCategorial.fit_transform(df[[\"Purchased\"]])\n",
    "\n",
    "imputeNumerical = SimpleImputer(strategy='mean')\n",
    "\n",
    "df[[\"Income\"]] = imputeNumerical.fit_transform(df[[\"Income\"]])\n",
    "df[[\"Age\"]] = imputeNumerical.fit_transform(df[[\"Age\"]])\n",
    "\n",
    "print(df)\n",
    "\n"
   ]
  },
  {
   "cell_type": "code",
   "execution_count": 34,
   "id": "8317c69e",
   "metadata": {},
   "outputs": [
    {
     "name": "stdout",
     "output_type": "stream",
     "text": [
      "No Null Values\n"
     ]
    }
   ],
   "source": [
    "nullValues = df.isnull().sum().sum()\n",
    "\n",
    "if(nullValues == 0):\n",
    "    print(\"No Null Values\")\n",
    "else:\n",
    "    print(nullValues)"
   ]
  }
 ],
 "metadata": {
  "kernelspec": {
   "display_name": "Python 3",
   "language": "python",
   "name": "python3"
  },
  "language_info": {
   "codemirror_mode": {
    "name": "ipython",
    "version": 3
   },
   "file_extension": ".py",
   "mimetype": "text/x-python",
   "name": "python",
   "nbconvert_exporter": "python",
   "pygments_lexer": "ipython3",
   "version": "3.11.0"
  }
 },
 "nbformat": 4,
 "nbformat_minor": 5
}
