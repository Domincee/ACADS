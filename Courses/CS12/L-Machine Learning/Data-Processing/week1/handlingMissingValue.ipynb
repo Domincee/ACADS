{
 "cells": [
  {
   "cell_type": "markdown",
   "id": "0630dcbe",
   "metadata": {},
   "source": [
    "# HANDLING MISSING VALUES\n",
    "\n",
    "\n",
    "- When we work with data in machine learning, it’s pretty common to see some missing value  maybe someone didn’t answer a survey question, or a sensor didn’t record properly. The problem is, most machine learning models don’t like empty spaces; they need every value to be filled.\n",
    "\n",
    "- That’s where **SimpleImputer** from scikit-learn comes in. \n",
    "> Think of it as a quick way to \"fill in the blanks.\" You can choose how you want to fill them:\n",
    "\n",
    "- If it’s numbers, you might use the **mean** (the average of the column) so the missing value fits in smoothly.\n",
    "\n",
    "- Or, you could use the **median**, which is safer if you have extreme outliers.\n",
    "\n",
    "- If it’s categories, like gender or product type, \n",
    "> you can use the **most_requent** value (basically the most common answer)."
   ]
  },
  {
   "cell_type": "code",
   "execution_count": 3,
   "id": "01c59c7e",
   "metadata": {},
   "outputs": [],
   "source": [
    "import numpy as np\n",
    "import pandas as pd\n",
    "from sklearn.impute import SimpleImputer\n",
    "\n"
   ]
  },
  {
   "cell_type": "code",
   "execution_count": 7,
   "id": "f14f2cef",
   "metadata": {},
   "outputs": [
    {
     "data": {
      "text/plain": [
       "{'CustomerID': [1, 2, 3, 4, 5, 6],\n",
       " 'Age': [25, nan, 35, 40, nan, 30],\n",
       " 'Gender': ['Male', 'Female', nan, 'Female', 'Male', nan],\n",
       " 'Income': [50000, 60000, nan, 80000, 75000, nan],\n",
       " 'Purchased': ['Yes', 'No', 'Yes', nan, 'No', 'Yes']}"
      ]
     },
     "metadata": {},
     "output_type": "display_data"
    }
   ],
   "source": [
    "data = {\n",
    "    \"CustomerID\": [1, 2, 3, 4, 5, 6],\n",
    "    \"Age\": [25, np.nan, 35, 40, np.nan, 30],\n",
    "    \"Gender\": [\"Male\", \"Female\", np.nan, \"Female\", \"Male\", np.nan],\n",
    "    \"Income\": [50000, 60000, np.nan, 80000, 75000, np.nan],\n",
    "    \"Purchased\": [\"Yes\", \"No\", \"Yes\", np.nan, \"No\", \"Yes\"]\n",
    "}\n",
    "\n",
    "\n",
    "df = pd.DataFrame(data)\n",
    "\n",
    "display(data)"
   ]
  },
  {
   "cell_type": "code",
   "execution_count": 10,
   "id": "5b6df61a",
   "metadata": {},
   "outputs": [
    {
     "data": {
      "text/plain": [
       "CustomerID    0\n",
       "Age           2\n",
       "Gender        2\n",
       "Income        2\n",
       "Purchased     1\n",
       "dtype: int64"
      ]
     },
     "execution_count": 10,
     "metadata": {},
     "output_type": "execute_result"
    }
   ],
   "source": [
    "df.isnull().sum()\n"
   ]
  },
  {
   "cell_type": "code",
   "execution_count": 33,
   "id": "a7b5720a",
   "metadata": {},
   "outputs": [
    {
     "name": "stdout",
     "output_type": "stream",
     "text": [
      "   CustomerID   Age  Gender   Income Purchased\n",
      "0           1  25.0    Male  50000.0       Yes\n",
      "1           2  32.5  Female  60000.0        No\n",
      "2           3  35.0  Female  50000.0       Yes\n",
      "3           4  40.0  Female  80000.0       Yes\n",
      "4           5  32.5    Male  75000.0        No\n",
      "5           6  30.0  Female  50000.0       Yes\n"
     ]
    }
   ],
   "source": [
    "imputerCategorial = SimpleImputer(strategy='most_frequent')\n",
    "df[[\"Gender\"]] = imputerCategorial.fit_transform(df[[\"Gender\"]])\n",
    "df[[\"Purchased\"]] = imputerCategorial.fit_transform(df[[\"Purchased\"]])\n",
    "\n",
    "imputeNumerical = SimpleImputer(strategy='mean')\n",
    "\n",
    "df[[\"Income\"]] = imputeNumerical.fit_transform(df[[\"Income\"]])\n",
    "df[[\"Age\"]] = imputeNumerical.fit_transform(df[[\"Age\"]])\n",
    "\n",
    "print(df)\n",
    "\n"
   ]
  },
  {
   "cell_type": "code",
   "execution_count": 34,
   "id": "8317c69e",
   "metadata": {},
   "outputs": [
    {
     "name": "stdout",
     "output_type": "stream",
     "text": [
      "No Null Values\n"
     ]
    }
   ],
   "source": [
    "nullValues = df.isnull().sum().sum()\n",
    "\n",
    "if(nullValues == 0):\n",
    "    print(\"No Null Values\")\n",
    "else:\n",
    "    print(nullValues)"
   ]
  },
  {
   "cell_type": "markdown",
   "id": "4d48602b",
   "metadata": {},
   "source": [
    "# WHAT I LEARNED HERE\n",
    "\n",
    "- Choosing the right strategy to handle null values is very important you can’t just fill them randomly.\n",
    "- For example, \n",
    "> if the missing data is numeric (like Income, Age, Salary, Kilogram, or Meter), you need to be careful about which method you use.\n",
    "\n",
    "- The **Most Frequent** strategy works for both numbers and categories. It simply fills the missing value with the most common one in the column. If there’s a tie, it picks the smaller value.\n",
    "\n",
    "- The **Mean strategy** is best for numerical data because it replaces missing values with the average of the existing numbers, keeping the overall balance of the dataset.\n",
    "\n",
    "- **Median** is for numerical data. It fills missing values with the middle value (when sorted) and works well when there are outliers since it’s less affected than the mean.\n"
   ]
  },
  {
   "cell_type": "markdown",
   "id": "3f2096c4",
   "metadata": {},
   "source": [
    "# THERE'S ALSO CALLED OUTLIERS\n",
    "## So, what are outliers?\n",
    "- Well, I realized they’re kinda like the **\"black sheep\"** in my data the values that don’t fit in with the rest. They’re either way too high or way too low compared to most of the other numbers.\n",
    "\n",
    "> For example, if most ages in my dataset are around 18–40, and suddenly I see 120, that’s definitely an outlier the \"black sheep\".\n"
   ]
  }
 ],
 "metadata": {
  "kernelspec": {
   "display_name": "Python 3",
   "language": "python",
   "name": "python3"
  },
  "language_info": {
   "codemirror_mode": {
    "name": "ipython",
    "version": 3
   },
   "file_extension": ".py",
   "mimetype": "text/x-python",
   "name": "python",
   "nbconvert_exporter": "python",
   "pygments_lexer": "ipython3",
   "version": "3.11.0"
  }
 },
 "nbformat": 4,
 "nbformat_minor": 5
}
