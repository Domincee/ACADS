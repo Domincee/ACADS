{
 "cells": [
  {
   "cell_type": "markdown",
   "id": "2402f1ec",
   "metadata": {
    "papermill": {
     "duration": 0.003841,
     "end_time": "2025-08-22T15:22:33.443420",
     "exception": false,
     "start_time": "2025-08-22T15:22:33.439579",
     "status": "completed"
    },
    "tags": []
   },
   "source": [
    "**This notebook is an exercise in the [Python](https://www.kaggle.com/learn/python) course.  You can reference the tutorial at [this link](https://www.kaggle.com/colinmorris/functions-and-getting-help).**\n",
    "\n",
    "---\n"
   ]
  },
  {
   "cell_type": "markdown",
   "id": "b5e4c971",
   "metadata": {
    "papermill": {
     "duration": 0.002924,
     "end_time": "2025-08-22T15:22:33.449925",
     "exception": false,
     "start_time": "2025-08-22T15:22:33.447001",
     "status": "completed"
    },
    "tags": []
   },
   "source": [
    "Functions are powerful. Try writing some yourself.\n",
    "\n",
    "As before, don't forget to run the setup code below before jumping into question 1."
   ]
  },
  {
   "cell_type": "code",
   "execution_count": 1,
   "id": "147a1ccd",
   "metadata": {
    "_kg_hide-input": true,
    "_kg_hide-output": true,
    "execution": {
     "iopub.execute_input": "2025-08-22T15:22:33.457251Z",
     "iopub.status.busy": "2025-08-22T15:22:33.456970Z",
     "iopub.status.idle": "2025-08-22T15:22:35.552859Z",
     "shell.execute_reply": "2025-08-22T15:22:35.551885Z"
    },
    "papermill": {
     "duration": 2.101117,
     "end_time": "2025-08-22T15:22:35.554251",
     "exception": false,
     "start_time": "2025-08-22T15:22:33.453134",
     "status": "completed"
    },
    "tags": []
   },
   "outputs": [
    {
     "name": "stdout",
     "output_type": "stream",
     "text": [
      "Setup complete.\n"
     ]
    }
   ],
   "source": [
    "# SETUP. You don't need to worry for now about what this code does or how it works.\n",
    "from learntools.core import binder; binder.bind(globals())\n",
    "from learntools.python.ex2 import *\n",
    "print('Setup complete.')"
   ]
  },
  {
   "cell_type": "markdown",
   "id": "20800bd0",
   "metadata": {
    "papermill": {
     "duration": 0.003044,
     "end_time": "2025-08-22T15:22:35.560705",
     "exception": false,
     "start_time": "2025-08-22T15:22:35.557661",
     "status": "completed"
    },
    "tags": []
   },
   "source": [
    "# 1.\n",
    "\n",
    "Complete the body of the following function according to its docstring.\n",
    "\n",
    "HINT: Python has a built-in function `round`."
   ]
  },
  {
   "cell_type": "code",
   "execution_count": 2,
   "id": "1f715933",
   "metadata": {
    "execution": {
     "iopub.execute_input": "2025-08-22T15:22:35.568205Z",
     "iopub.status.busy": "2025-08-22T15:22:35.567810Z",
     "iopub.status.idle": "2025-08-22T15:22:35.576634Z",
     "shell.execute_reply": "2025-08-22T15:22:35.575793Z"
    },
    "papermill": {
     "duration": 0.014297,
     "end_time": "2025-08-22T15:22:35.578132",
     "exception": false,
     "start_time": "2025-08-22T15:22:35.563835",
     "status": "completed"
    },
    "tags": []
   },
   "outputs": [
    {
     "name": "stdout",
     "output_type": "stream",
     "text": [
      "3\n"
     ]
    },
    {
     "data": {
      "application/javascript": [
       "parent.postMessage({\"jupyterEvent\": \"custom.exercise_interaction\", \"data\": {\"outcomeType\": 1, \"valueTowardsCompletion\": 0.16666666666666666, \"interactionType\": 1, \"questionType\": 2, \"questionId\": \"1_RoundFunctionProblem\", \"learnToolsVersion\": \"0.3.5\", \"failureMessage\": \"\", \"exceptionClass\": \"\", \"trace\": \"\"}}, \"*\")"
      ],
      "text/plain": [
       "<IPython.core.display.Javascript object>"
      ]
     },
     "metadata": {},
     "output_type": "display_data"
    },
    {
     "data": {
      "text/markdown": [
       "<span style=\"color:#33cc33\">Correct</span>"
      ],
      "text/plain": [
       "Correct"
      ]
     },
     "metadata": {},
     "output_type": "display_data"
    }
   ],
   "source": [
    "def round_to_two_places(num):\n",
    "    \"\"\"Return the given number rounded to two decimal places. \n",
    "    \n",
    "    >>> round_to_two_places(3.14159)\n",
    "    3.14\n",
    "    \"\"\"\n",
    "    \n",
    "    return round(num,2)\n",
    "    # Replace this body with your own code.\n",
    "    # (\"pass\" is a keyword that does literally nothing. We used it as a placeholder\n",
    "    # because after we begin a code block, Python requires at least one line of code)\n",
    "    pass\n",
    "\n",
    "print(round_to_two_places(3))\n",
    "# Check your answer\n",
    "q1.check()"
   ]
  },
  {
   "cell_type": "code",
   "execution_count": 3,
   "id": "c91b450d",
   "metadata": {
    "execution": {
     "iopub.execute_input": "2025-08-22T15:22:35.586949Z",
     "iopub.status.busy": "2025-08-22T15:22:35.586692Z",
     "iopub.status.idle": "2025-08-22T15:22:35.597050Z",
     "shell.execute_reply": "2025-08-22T15:22:35.595837Z"
    },
    "papermill": {
     "duration": 0.016281,
     "end_time": "2025-08-22T15:22:35.598516",
     "exception": false,
     "start_time": "2025-08-22T15:22:35.582235",
     "status": "completed"
    },
    "tags": []
   },
   "outputs": [
    {
     "data": {
      "application/javascript": [
       "parent.postMessage({\"jupyterEvent\": \"custom.exercise_interaction\", \"data\": {\"interactionType\": 2, \"questionType\": 2, \"questionId\": \"1_RoundFunctionProblem\", \"learnToolsVersion\": \"0.3.5\", \"valueTowardsCompletion\": 0.0, \"failureMessage\": \"\", \"exceptionClass\": \"\", \"trace\": \"\", \"outcomeType\": 4}}, \"*\")"
      ],
      "text/plain": [
       "<IPython.core.display.Javascript object>"
      ]
     },
     "metadata": {},
     "output_type": "display_data"
    },
    {
     "data": {
      "text/markdown": [
       "<span style=\"color:#3366cc\">Hint:</span> Run `help(round)` in the console (or in a code cell) to learn more about the round function. You'll need to use the function's optional second argument."
      ],
      "text/plain": [
       "Hint: Run `help(round)` in the console (or in a code cell) to learn more about the round function. You'll need to use the function's optional second argument."
      ]
     },
     "metadata": {},
     "output_type": "display_data"
    },
    {
     "data": {
      "application/javascript": [
       "parent.postMessage({\"jupyterEvent\": \"custom.exercise_interaction\", \"data\": {\"interactionType\": 3, \"questionType\": 2, \"questionId\": \"1_RoundFunctionProblem\", \"learnToolsVersion\": \"0.3.5\", \"valueTowardsCompletion\": 0.0, \"failureMessage\": \"\", \"exceptionClass\": \"\", \"trace\": \"\", \"outcomeType\": 4}}, \"*\")"
      ],
      "text/plain": [
       "<IPython.core.display.Javascript object>"
      ]
     },
     "metadata": {},
     "output_type": "display_data"
    },
    {
     "data": {
      "text/markdown": [
       "<span style=\"color:#33cc99\">Solution:</span> \n",
       "```python\n",
       "return round(num, 2)\n",
       "```"
      ],
      "text/plain": [
       "Solution: \n",
       "```python\n",
       "return round(num, 2)\n",
       "```"
      ]
     },
     "metadata": {},
     "output_type": "display_data"
    }
   ],
   "source": [
    "# Uncomment the following for a hint\n",
    "q1.hint()\n",
    "# Or uncomment the following to peek at the solution\n",
    "q1.solution()"
   ]
  },
  {
   "cell_type": "markdown",
   "id": "0c8bba72",
   "metadata": {
    "papermill": {
     "duration": 0.003435,
     "end_time": "2025-08-22T15:22:35.606000",
     "exception": false,
     "start_time": "2025-08-22T15:22:35.602565",
     "status": "completed"
    },
    "tags": []
   },
   "source": [
    "# 2.\n",
    "The help for `round` says that `ndigits` (the second argument) may be negative.\n",
    "What do you think will happen when it is? Try some examples in the following cell."
   ]
  },
  {
   "cell_type": "code",
   "execution_count": 4,
   "id": "71e1fa85",
   "metadata": {
    "execution": {
     "iopub.execute_input": "2025-08-22T15:22:35.615076Z",
     "iopub.status.busy": "2025-08-22T15:22:35.614795Z",
     "iopub.status.idle": "2025-08-22T15:22:35.619909Z",
     "shell.execute_reply": "2025-08-22T15:22:35.619083Z"
    },
    "papermill": {
     "duration": 0.011645,
     "end_time": "2025-08-22T15:22:35.621364",
     "exception": false,
     "start_time": "2025-08-22T15:22:35.609719",
     "status": "completed"
    },
    "tags": []
   },
   "outputs": [
    {
     "name": "stdout",
     "output_type": "stream",
     "text": [
      "ff 3384312234230000000000\n"
     ]
    }
   ],
   "source": [
    "# Put your test code here\n",
    "print(\"ff\",round(3384312234234223123324,-10))"
   ]
  },
  {
   "cell_type": "markdown",
   "id": "297a9088",
   "metadata": {
    "papermill": {
     "duration": 0.004286,
     "end_time": "2025-08-22T15:22:35.629687",
     "exception": false,
     "start_time": "2025-08-22T15:22:35.625401",
     "status": "completed"
    },
    "tags": []
   },
   "source": [
    "Can you think of a case where this would be useful?  Once you're ready, run the code cell below to see the answer and to receive credit for completing the problem."
   ]
  },
  {
   "cell_type": "code",
   "execution_count": 5,
   "id": "ec036946",
   "metadata": {
    "execution": {
     "iopub.execute_input": "2025-08-22T15:22:35.638306Z",
     "iopub.status.busy": "2025-08-22T15:22:35.637967Z",
     "iopub.status.idle": "2025-08-22T15:22:35.645525Z",
     "shell.execute_reply": "2025-08-22T15:22:35.644680Z"
    },
    "papermill": {
     "duration": 0.013529,
     "end_time": "2025-08-22T15:22:35.646936",
     "exception": false,
     "start_time": "2025-08-22T15:22:35.633407",
     "status": "completed"
    },
    "tags": []
   },
   "outputs": [
    {
     "data": {
      "application/javascript": [
       "parent.postMessage({\"jupyterEvent\": \"custom.exercise_interaction\", \"data\": {\"interactionType\": 3, \"questionType\": 4, \"questionId\": \"2_RoundNdigitsProblem\", \"learnToolsVersion\": \"0.3.5\", \"valueTowardsCompletion\": 0.0, \"failureMessage\": \"\", \"exceptionClass\": \"\", \"trace\": \"\", \"outcomeType\": 4}}, \"*\")"
      ],
      "text/plain": [
       "<IPython.core.display.Javascript object>"
      ]
     },
     "metadata": {},
     "output_type": "display_data"
    },
    {
     "data": {
      "text/markdown": [
       "<span style=\"color:#33cc99\">Solution:</span> As you've seen, `ndigits=-1` rounds to the nearest 10, `ndigits=-2` rounds to the nearest 100 and so on. Where might this be useful? Suppose we're dealing with large numbers:\n",
       "\n",
       "> The area of Finland is 338,424 km²  \n",
       "> The area of Greenland is 2,166,086 km²\n",
       "\n",
       "We probably don't care whether it's really 338,424, or 338,425, or 338,177. All those digits of accuracy are just distracting. We can chop them off by calling `round()` with `ndigits=-3`:\n",
       "\n",
       "> The area of Finland is 338,000 km²  \n",
       "> The area of Greenland is 2,166,000 km²\n",
       "\n",
       "(We'll talk about how we would get the commas later when we talk about string formatting :))\n"
      ],
      "text/plain": [
       "Solution: As you've seen, `ndigits=-1` rounds to the nearest 10, `ndigits=-2` rounds to the nearest 100 and so on. Where might this be useful? Suppose we're dealing with large numbers:\n",
       "\n",
       "> The area of Finland is 338,424 km²  \n",
       "> The area of Greenland is 2,166,086 km²\n",
       "\n",
       "We probably don't care whether it's really 338,424, or 338,425, or 338,177. All those digits of accuracy are just distracting. We can chop them off by calling `round()` with `ndigits=-3`:\n",
       "\n",
       "> The area of Finland is 338,000 km²  \n",
       "> The area of Greenland is 2,166,000 km²\n",
       "\n",
       "(We'll talk about how we would get the commas later when we talk about string formatting :))"
      ]
     },
     "metadata": {},
     "output_type": "display_data"
    }
   ],
   "source": [
    "# Check your answer (Run this code cell to receive credit!)\n",
    "q2.solution()"
   ]
  },
  {
   "cell_type": "markdown",
   "id": "57856a1c",
   "metadata": {
    "papermill": {
     "duration": 0.003804,
     "end_time": "2025-08-22T15:22:35.655399",
     "exception": false,
     "start_time": "2025-08-22T15:22:35.651595",
     "status": "completed"
    },
    "tags": []
   },
   "source": [
    "# 3.\n",
    "\n",
    "In the previous exercise, the candy-sharing friends Alice, Bob and Carol tried to split candies evenly. For the sake of their friendship, any candies left over would be smashed. For example, if they collectively bring home 91 candies, they'll take 30 each and smash 1.\n",
    "\n",
    "Below is a simple function that will calculate the number of candies to smash for *any* number of total candies.\n",
    "\n",
    "Modify it so that it optionally takes a second argument representing the number of friends the candies are being split between. If no second argument is provided, it should assume 3 friends, as before.\n",
    "\n",
    "Update the docstring to reflect this new behaviour."
   ]
  },
  {
   "cell_type": "code",
   "execution_count": 6,
   "id": "df582372",
   "metadata": {
    "execution": {
     "iopub.execute_input": "2025-08-22T15:22:35.664808Z",
     "iopub.status.busy": "2025-08-22T15:22:35.664547Z",
     "iopub.status.idle": "2025-08-22T15:22:35.672360Z",
     "shell.execute_reply": "2025-08-22T15:22:35.671166Z"
    },
    "papermill": {
     "duration": 0.014484,
     "end_time": "2025-08-22T15:22:35.673819",
     "exception": false,
     "start_time": "2025-08-22T15:22:35.659335",
     "status": "completed"
    },
    "tags": []
   },
   "outputs": [
    {
     "data": {
      "application/javascript": [
       "parent.postMessage({\"jupyterEvent\": \"custom.exercise_interaction\", \"data\": {\"outcomeType\": 1, \"valueTowardsCompletion\": 0.16666666666666666, \"interactionType\": 1, \"questionType\": 2, \"questionId\": \"3_CandySmashingFunctionProblem\", \"learnToolsVersion\": \"0.3.5\", \"failureMessage\": \"\", \"exceptionClass\": \"\", \"trace\": \"\"}}, \"*\")"
      ],
      "text/plain": [
       "<IPython.core.display.Javascript object>"
      ]
     },
     "metadata": {},
     "output_type": "display_data"
    },
    {
     "data": {
      "text/markdown": [
       "<span style=\"color:#33cc33\">Correct</span>"
      ],
      "text/plain": [
       "Correct"
      ]
     },
     "metadata": {},
     "output_type": "display_data"
    }
   ],
   "source": [
    "def to_smash(total_candies,count_friends =3):\n",
    "    \"\"\"Return the number of leftover candies that must be smashed after distributing\n",
    "    the given number of candies evenly between 3 friends.\n",
    "    \n",
    "    >>> to_smash(91)\n",
    "    1\n",
    "    \"\"\"\n",
    "    return total_candies % count_friends\n",
    "\n",
    "# Check your answer\n",
    "q3.check()"
   ]
  },
  {
   "cell_type": "code",
   "execution_count": 7,
   "id": "2a2d1c90",
   "metadata": {
    "execution": {
     "iopub.execute_input": "2025-08-22T15:22:35.683327Z",
     "iopub.status.busy": "2025-08-22T15:22:35.683001Z",
     "iopub.status.idle": "2025-08-22T15:22:35.690542Z",
     "shell.execute_reply": "2025-08-22T15:22:35.689732Z"
    },
    "papermill": {
     "duration": 0.013851,
     "end_time": "2025-08-22T15:22:35.692020",
     "exception": false,
     "start_time": "2025-08-22T15:22:35.678169",
     "status": "completed"
    },
    "tags": []
   },
   "outputs": [
    {
     "data": {
      "application/javascript": [
       "parent.postMessage({\"jupyterEvent\": \"custom.exercise_interaction\", \"data\": {\"interactionType\": 2, \"questionType\": 2, \"questionId\": \"3_CandySmashingFunctionProblem\", \"learnToolsVersion\": \"0.3.5\", \"valueTowardsCompletion\": 0.0, \"failureMessage\": \"\", \"exceptionClass\": \"\", \"trace\": \"\", \"outcomeType\": 4}}, \"*\")"
      ],
      "text/plain": [
       "<IPython.core.display.Javascript object>"
      ]
     },
     "metadata": {},
     "output_type": "display_data"
    },
    {
     "data": {
      "text/markdown": [
       "<span style=\"color:#3366cc\">Hint:</span> Refer to the section of the last tutorial notebook where we talked about default arguments"
      ],
      "text/plain": [
       "Hint: Refer to the section of the last tutorial notebook where we talked about default arguments"
      ]
     },
     "metadata": {},
     "output_type": "display_data"
    }
   ],
   "source": [
    "q3.hint()"
   ]
  },
  {
   "cell_type": "code",
   "execution_count": 8,
   "id": "9fff71b3",
   "metadata": {
    "execution": {
     "iopub.execute_input": "2025-08-22T15:22:35.701857Z",
     "iopub.status.busy": "2025-08-22T15:22:35.701576Z",
     "iopub.status.idle": "2025-08-22T15:22:35.708352Z",
     "shell.execute_reply": "2025-08-22T15:22:35.707690Z"
    },
    "papermill": {
     "duration": 0.013145,
     "end_time": "2025-08-22T15:22:35.709622",
     "exception": false,
     "start_time": "2025-08-22T15:22:35.696477",
     "status": "completed"
    },
    "tags": []
   },
   "outputs": [
    {
     "data": {
      "application/javascript": [
       "parent.postMessage({\"jupyterEvent\": \"custom.exercise_interaction\", \"data\": {\"interactionType\": 3, \"questionType\": 2, \"questionId\": \"3_CandySmashingFunctionProblem\", \"learnToolsVersion\": \"0.3.5\", \"valueTowardsCompletion\": 0.0, \"failureMessage\": \"\", \"exceptionClass\": \"\", \"trace\": \"\", \"outcomeType\": 4}}, \"*\")"
      ],
      "text/plain": [
       "<IPython.core.display.Javascript object>"
      ]
     },
     "metadata": {},
     "output_type": "display_data"
    },
    {
     "data": {
      "text/markdown": [
       "<span style=\"color:#33cc99\">Solution:</span> \n",
       "```python\n",
       "def to_smash(total_candies, n_friends=3):\n",
       "    return total_candies % n_friends\n",
       "```"
      ],
      "text/plain": [
       "Solution: \n",
       "```python\n",
       "def to_smash(total_candies, n_friends=3):\n",
       "    return total_candies % n_friends\n",
       "```"
      ]
     },
     "metadata": {},
     "output_type": "display_data"
    }
   ],
   "source": [
    "q3.solution()"
   ]
  },
  {
   "cell_type": "markdown",
   "id": "807df055",
   "metadata": {
    "papermill": {
     "duration": 0.004256,
     "end_time": "2025-08-22T15:22:35.718623",
     "exception": false,
     "start_time": "2025-08-22T15:22:35.714367",
     "status": "completed"
    },
    "tags": []
   },
   "source": [
    "# 4. (Optional)\n",
    "\n",
    "It may not be fun, but reading and understanding error messages will be an important part of your Python career.\n",
    "\n",
    "Each code cell below contains some commented buggy code. For each cell...\n",
    "\n",
    "1. Read the code and predict what you think will happen when it's run.\n",
    "2. Then uncomment the code and run it to see what happens. (**Tip**: In the kernel editor, you can highlight several lines and press `ctrl`+`/` to toggle commenting.)\n",
    "3. Fix the code (so that it accomplishes its intended purpose without throwing an exception)\n",
    "\n",
    "<!-- TODO: should this be autochecked? Delta is probably pretty small. -->"
   ]
  },
  {
   "cell_type": "code",
   "execution_count": 9,
   "id": "01f9630d",
   "metadata": {
    "execution": {
     "iopub.execute_input": "2025-08-22T15:22:35.728208Z",
     "iopub.status.busy": "2025-08-22T15:22:35.727867Z",
     "iopub.status.idle": "2025-08-22T15:22:35.734086Z",
     "shell.execute_reply": "2025-08-22T15:22:35.733280Z"
    },
    "papermill": {
     "duration": 0.012723,
     "end_time": "2025-08-22T15:22:35.735507",
     "exception": false,
     "start_time": "2025-08-22T15:22:35.722784",
     "status": "completed"
    },
    "tags": []
   },
   "outputs": [
    {
     "data": {
      "text/plain": [
       "10.0"
      ]
     },
     "execution_count": 9,
     "metadata": {},
     "output_type": "execute_result"
    }
   ],
   "source": [
    "def round_to_two_places(num):\n",
    "    return round(num,2)\n",
    "round_to_two_places(9.9999)"
   ]
  },
  {
   "cell_type": "code",
   "execution_count": 10,
   "id": "9eec7672",
   "metadata": {
    "execution": {
     "iopub.execute_input": "2025-08-22T15:22:35.746100Z",
     "iopub.status.busy": "2025-08-22T15:22:35.745577Z",
     "iopub.status.idle": "2025-08-22T15:22:35.750300Z",
     "shell.execute_reply": "2025-08-22T15:22:35.749430Z"
    },
    "papermill": {
     "duration": 0.011741,
     "end_time": "2025-08-22T15:22:35.751953",
     "exception": false,
     "start_time": "2025-08-22T15:22:35.740212",
     "status": "completed"
    },
    "tags": []
   },
   "outputs": [
    {
     "name": "stdout",
     "output_type": "stream",
     "text": [
      "5\n"
     ]
    }
   ],
   "source": [
    " x = -10\n",
    " y = 5\n",
    "# # Which of the two variables above has the smallest absolute value?\n",
    " smallest_abs = min(abs(x),abs(y))\n",
    "print(smallest_abs)"
   ]
  },
  {
   "cell_type": "code",
   "execution_count": 11,
   "id": "56f5e31d",
   "metadata": {
    "execution": {
     "iopub.execute_input": "2025-08-22T15:22:35.763593Z",
     "iopub.status.busy": "2025-08-22T15:22:35.762905Z",
     "iopub.status.idle": "2025-08-22T15:22:35.767859Z",
     "shell.execute_reply": "2025-08-22T15:22:35.766943Z"
    },
    "papermill": {
     "duration": 0.012845,
     "end_time": "2025-08-22T15:22:35.769491",
     "exception": false,
     "start_time": "2025-08-22T15:22:35.756646",
     "status": "completed"
    },
    "tags": []
   },
   "outputs": [
    {
     "name": "stdout",
     "output_type": "stream",
     "text": [
      "5\n"
     ]
    }
   ],
   "source": [
    " def f(x):\n",
    "     y = abs(x)\n",
    "     return y\n",
    "\n",
    "print(f(5))"
   ]
  },
  {
   "cell_type": "markdown",
   "id": "47108d11",
   "metadata": {
    "papermill": {
     "duration": 0.004288,
     "end_time": "2025-08-22T15:22:35.778628",
     "exception": false,
     "start_time": "2025-08-22T15:22:35.774340",
     "status": "completed"
    },
    "tags": []
   },
   "source": [
    "# Keep Going\n",
    "\n",
    "Nice job with the code. Next up, you'll learn about *conditionals*, which you'll need to **[write interesting programs](https://www.kaggle.com/colinmorris/booleans-and-conditionals)**. "
   ]
  },
  {
   "cell_type": "markdown",
   "id": "ec7ce6ca",
   "metadata": {
    "papermill": {
     "duration": 0.004972,
     "end_time": "2025-08-22T15:22:35.788099",
     "exception": false,
     "start_time": "2025-08-22T15:22:35.783127",
     "status": "completed"
    },
    "tags": []
   },
   "source": [
    "---\n",
    "\n",
    "\n",
    "\n",
    "\n",
    "*Have questions or comments? Visit the [course discussion forum](https://www.kaggle.com/learn/python/discussion) to chat with other learners.*"
   ]
  }
 ],
 "metadata": {
  "kaggle": {
   "accelerator": "none",
   "dataSources": [],
   "isGpuEnabled": false,
   "isInternetEnabled": false,
   "language": "python",
   "sourceType": "notebook"
  },
  "kernelspec": {
   "display_name": "Python 3",
   "language": "python",
   "name": "python3"
  },
  "language_info": {
   "codemirror_mode": {
    "name": "ipython",
    "version": 3
   },
   "file_extension": ".py",
   "mimetype": "text/x-python",
   "name": "python",
   "nbconvert_exporter": "python",
   "pygments_lexer": "ipython3",
   "version": "3.11.13"
  },
  "learntools_metadata": {
   "lesson_index": 1,
   "type": "exercise"
  },
  "papermill": {
   "default_parameters": {},
   "duration": 8.533291,
   "end_time": "2025-08-22T15:22:36.312971",
   "environment_variables": {},
   "exception": null,
   "input_path": "__notebook__.ipynb",
   "output_path": "__notebook__.ipynb",
   "parameters": {},
   "start_time": "2025-08-22T15:22:27.779680",
   "version": "2.6.0"
  }
 },
 "nbformat": 4,
 "nbformat_minor": 5
}
