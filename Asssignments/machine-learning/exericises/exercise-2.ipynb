{
 "cells": [
  {
   "cell_type": "markdown",
   "id": "15a4919a",
   "metadata": {},
   "source": [
    "“This exercise will cover how to:\n",
    "\n",
    "- Handle null values\n",
    "\n",
    "- Use 'iloc' for selecting data\n",
    "\n",
    "- Transform categorical data into numerical format”**"
   ]
  },
  {
   "cell_type": "code",
   "execution_count": null,
   "id": "3d2dc12d",
   "metadata": {},
   "outputs": [],
   "source": [
    "\n",
    "import numpy as np\n",
    "from sklearn.impute import SimpleImputer\n",
    "import pandas as pd\n"
   ]
  }
 ],
 "metadata": {
  "language_info": {
   "name": "python"
  }
 },
 "nbformat": 4,
 "nbformat_minor": 5
}
