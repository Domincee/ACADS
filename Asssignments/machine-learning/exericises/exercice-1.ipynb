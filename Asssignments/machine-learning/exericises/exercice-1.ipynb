{
 "cells": [
  {
   "cell_type": "code",
   "execution_count": 2,
   "id": "f37175b5",
   "metadata": {},
   "outputs": [],
   "source": [
    "import numpy as np\n",
    "from sklearn.svm import SVC"
   ]
  },
  {
   "cell_type": "code",
   "execution_count": 19,
   "id": "9e918dac",
   "metadata": {},
   "outputs": [
    {
     "name": "stdout",
     "output_type": "stream",
     "text": [
      "Features \n",
      " [[20. 30.]\n",
      " [40. 50.]\n",
      " [60. nan]\n",
      " [70. 50.]]\n",
      "Target \n",
      " [0 0 1 1]\n"
     ]
    }
   ],
   "source": [
    "X =np.array([[20,30],[40,50],[60,np.NaN],[70,50]])\n",
    "y= np.array([0,0,1,1])\n",
    "\n",
    "print(\"Features \\n\", X)\n",
    "print(\"Target \\n\", y )"
   ]
  },
  {
   "cell_type": "code",
   "execution_count": 23,
   "id": "7117bcb0",
   "metadata": {},
   "outputs": [
    {
     "name": "stdout",
     "output_type": "stream",
     "text": [
      "1\n"
     ]
    }
   ],
   "source": [
    "checkNull = np.isnan(X).sum()\n",
    "\n",
    "print(checkNull)"
   ]
  },
  {
   "cell_type": "markdown",
   "id": "7845898e",
   "metadata": {},
   "source": [
    "The array has null values and it should have not any null values.\n",
    "\n",
    "I will use SimpleImputer to fill the null values using the strategy \"mean\"\n",
    "\n",
    "The data is only array, and use numpy\n",
    "\n",
    "if data is from numpy Use below\n"
   ]
  },
  {
   "cell_type": "code",
   "execution_count": 30,
   "id": "8e89d547",
   "metadata": {},
   "outputs": [
    {
     "name": "stdout",
     "output_type": "stream",
     "text": [
      "[[20.   30.  ]\n",
      " [40.   50.  ]\n",
      " [60.   43.33]\n",
      " [70.   50.  ]]\n"
     ]
    }
   ],
   "source": [
    "from sklearn.impute import SimpleImputer\n",
    "\n",
    "imputer = SimpleImputer(strategy=\"mean\")\n",
    "\n",
    "X = imputer.fit_transform(X)\n",
    "X = np.round(X, 2)\n",
    "print(X)"
   ]
  },
  {
   "cell_type": "markdown",
   "id": "0620391f",
   "metadata": {},
   "source": [
    "If Using Pandas "
   ]
  },
  {
   "cell_type": "code",
   "execution_count": 6,
   "id": "8709411c",
   "metadata": {},
   "outputs": [
    {
     "name": "stdout",
     "output_type": "stream",
     "text": [
      "   StudyHours  ExamScore\n",
      "0          20       30.0\n",
      "1          40       50.0\n",
      "2          60        NaN\n",
      "3          70       50.0\n"
     ]
    }
   ],
   "source": [
    "import pandas as pd\n",
    "import numpy as np\n",
    "\n",
    "\"\"\" If using a scv file\n",
    "    df = pd.read_csv(\"filename.csv\")\n",
    "\n",
    " \"\"\"\n",
    "df = pd.DataFrame({\n",
    "    \"StudyHours\": [20, 40, 60, 70],\n",
    "    \"ExamScore\": [30, 50, np.nan, 50]\n",
    "})\n",
    "\n",
    "print(df)"
   ]
  },
  {
   "cell_type": "code",
   "execution_count": 5,
   "id": "db77ae7b",
   "metadata": {},
   "outputs": [
    {
     "data": {
      "text/plain": [
       "StudyHours    0\n",
       "ExamScore     1\n",
       "dtype: int64"
      ]
     },
     "execution_count": 5,
     "metadata": {},
     "output_type": "execute_result"
    }
   ],
   "source": [
    "df.isnull().sum()"
   ]
  }
 ],
 "metadata": {
  "kernelspec": {
   "display_name": "Python 3",
   "language": "python",
   "name": "python3"
  },
  "language_info": {
   "codemirror_mode": {
    "name": "ipython",
    "version": 3
   },
   "file_extension": ".py",
   "mimetype": "text/x-python",
   "name": "python",
   "nbconvert_exporter": "python",
   "pygments_lexer": "ipython3",
   "version": "3.11.0"
  }
 },
 "nbformat": 4,
 "nbformat_minor": 5
}
